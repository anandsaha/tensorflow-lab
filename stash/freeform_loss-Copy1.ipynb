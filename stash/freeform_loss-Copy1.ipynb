{
 "cells": [
  {
   "cell_type": "code",
   "execution_count": 1,
   "metadata": {},
   "outputs": [],
   "source": [
    "import numpy as np\n",
    "from scipy.optimize import linear_sum_assignment"
   ]
  },
  {
   "cell_type": "code",
   "execution_count": 2,
   "metadata": {},
   "outputs": [],
   "source": [
    "def stabilize(confidence, very_small_value=1e-8, dtype=np.float32):\n",
    "    confidence[confidence > 1.0]  = 1.0\n",
    "    confidence[confidence <= 0.0]  = very_small_value\n",
    "    return confidence.astype(dtype)"
   ]
  },
  {
   "cell_type": "code",
   "execution_count": null,
   "metadata": {},
   "outputs": [],
   "source": [
    "    \"\"\"Loss function for free-form text detection as per the paper:\n",
    "       https://www.teklia.com/wp-content/uploads/2018/07/IJDAR2018_publishedVersion.pdf\n",
    "\n",
    "    :param predictions:\n",
    "    :param truths:\n",
    "    :param alpha1:\n",
    "    :param alpha2:\n",
    "    :return:\n",
    "    \"\"\"\n",
    "    \n",
    "ENH: Loss function for free-form text detection as per the Moysset et.al. paper."
   ]
  },
  {
   "cell_type": "code",
   "execution_count": null,
   "metadata": {},
   "outputs": [],
   "source": [
    "\n",
    "def lossx(predictions, truths, alpha1=1.0, alpha2=1.0):\n",
    "    \"\"\"\n",
    "    predictions is a float matrix with the dimensions [batch_size, num_predictions, 5]\n",
    "        - the '5' represents x, y, height, width & confidence of each prediction of each batch item\n",
    "        \n",
    "    truths is a float matrix with the dimensions [batch_size, num_ground_truths, 4]\n",
    "        - the '4' represents x, y, height & width of each ground truth of each batch item\n",
    "    \n",
    "    for all items in the batch, num_predictions will be the same \n",
    "        (as determined by the image sizes in the batch and the number of bounding \n",
    "        boxes we want to predict per location)\n",
    "        \n",
    "    for all items in the batch, num_ground_truths will be different for different images\n",
    "    \n",
    "    \"\"\"\n",
    "    \n",
    "    assert len(predictions) == len(truths), 'Batch size of predictions and ground truths do not match'\n",
    "        \n",
    "    predictions = np.array(predictions)\n",
    "    truths      = np.array(truths)\n",
    "    batch_size  = len(predictions)\n",
    "    the_loss    = None\n",
    "    \n",
    "    for batch_idx in range(batch_size):\n",
    "        \n",
    "        # Create the cost matrix: predictions vs ground truths\n",
    "        ######################################################\n",
    "        \n",
    "        num_preds = len(predictions[batch_idx])\n",
    "        num_truths = len(truths[batch_idx])\n",
    "        \n",
    "        if 0 == num_preds:\n",
    "            continue\n",
    "            \n",
    "        # For numerical stability\n",
    "        predictions[batch_idx][:, 4] = stabilize(predictions[batch_idx][:, 4])\n",
    "        \n",
    "        # extract (1-confidence) values\n",
    "        one_minus_confidence = 1.0 - predictions[batch_idx][:, 4]\n",
    "        \n",
    "        # For numerical stability\n",
    "        one_minus_confidence = stabilize(one_minus_confidence)\n",
    "        \n",
    "        if num_truths == 0:\n",
    "            # If there are no ground truths, we want all the predictions to have very low \n",
    "            # confidence (and that's all for the loss for this batch)\n",
    "            \n",
    "            if the_loss is None:\n",
    "                the_loss = 0.0\n",
    "                \n",
    "            the_loss += -np.log(one_minus_confidence).sum()\n",
    "            continue\n",
    "        \n",
    "        # the cost matrix, initialized to 0\n",
    "        cost_matrix = np.zeros((num_preds, num_truths))\n",
    "\n",
    "        # fill the cost matrix\n",
    "        for t in range(num_truths):\n",
    "            localization_cost = np.linalg.norm(predictions[batch_idx][:][:, :4] - truths[batch_idx][t], \n",
    "                                               axis=1) * alpha1\n",
    "            confidence_cost = -1 * np.log(predictions[batch_idx][:][:, 4])\n",
    "            cost_matrix[:, t] = localization_cost + confidence_cost\n",
    "        \n",
    "        # run the hungarian algorithm\n",
    "        row_ind, col_ind = linear_sum_assignment(cost_matrix) \n",
    "        \n",
    "        # generate assignment lookup table\n",
    "        X = np.full(cost_matrix.shape, False, dtype=bool)\n",
    "        X[row_ind, col_ind] = True\n",
    "        \n",
    "        # Calculate the loss\n",
    "        ######################################################\n",
    "        \n",
    "        # which predictions map to a (any) ground truth?\n",
    "        prediction_mask = X.sum(axis=1, dtype=np.bool)\n",
    "\n",
    "        if the_loss is None:\n",
    "            the_loss = 0.0\n",
    "            \n",
    "        # for all predictions which did not map to any truth, we want their confidence to be low\n",
    "        the_loss += -np.log(one_minus_confidence[~prediction_mask]).sum()\n",
    "        \n",
    "        # now add cost of the matches\n",
    "        for t in range(num_truths):\n",
    "            localization_cost = np.linalg.norm(predictions[batch_idx][X[:, t]][:, :4] - truths[batch_idx][t],  \n",
    "                                               axis=1) * alpha2\n",
    "            confidence_cost = -1 * np.log(predictions[batch_idx][X[:, t]][:, 4])\n",
    "            the_loss += np.squeeze(localization_cost + confidence_cost)\n",
    "            \n",
    "    return the_loss if the_loss is not None else float('inf')"
   ]
  },
  {
   "cell_type": "code",
   "execution_count": 3,
   "metadata": {},
   "outputs": [],
   "source": [
    "\n",
    "def detection_loss(predictions, truths, alpha1=1.0, alpha2=1.0):\n",
    "    \"\"\"\n",
    "    predictions is a float matrix with the dimensions [batch_size, num_predictions, 5]\n",
    "        - the '5' represents x, y, height, width & confidence of each prediction of each batch item\n",
    "    truths is a float matrix with the dimensions [batch_size, num_ground_truths, 4]\n",
    "        - the '4' represents x, y, height & width of each ground truth of each batch item\n",
    "    for all items in the batch, num_predictions will be the same\n",
    "        (as determined by the image sizes in the batch and the number of bounding\n",
    "        boxes we want to predict per location)\n",
    "    for all items in the batch, num_ground_truths will be different for different images\n",
    "    \"\"\"\n",
    "\n",
    "    assert len(predictions) == len(truths), 'Batch size of predictions and ground truths do not match'\n",
    "\n",
    "    predictions = np.array(predictions)\n",
    "    truths = np.array(truths)\n",
    "    batch_size = len(predictions)\n",
    "    the_loss = None\n",
    "\n",
    "    for batch_idx in range(batch_size):\n",
    "\n",
    "        # Create the cost matrix: predictions vs ground truths\n",
    "        ######################################################\n",
    "        num_preds = len(predictions[batch_idx])\n",
    "        num_truths = len(truths[batch_idx])\n",
    "\n",
    "        if 0 == num_preds:\n",
    "            continue\n",
    "\n",
    "        # For numerical stability\n",
    "        predictions[batch_idx][:, 4] = stabilize(predictions[batch_idx][:, 4])\n",
    "\n",
    "        # extract (1-confidence) values\n",
    "        one_minus_confidence = 1.0 - predictions[batch_idx][:, 4]\n",
    "\n",
    "        # For numerical stability\n",
    "        one_minus_confidence = stabilize(one_minus_confidence)\n",
    "\n",
    "        if num_truths == 0:\n",
    "            # If there are no ground truths, we want all the predictions to have very low \n",
    "            # confidence (and that's all for the loss for this batch)\n",
    "            if the_loss is None:\n",
    "                the_loss = 0.0\n",
    "            the_loss += -np.log(one_minus_confidence).sum()\n",
    "            continue\n",
    "\n",
    "        # the cost matrix, initialized to 0\n",
    "        cost_matrix = np.zeros((num_preds, num_truths))\n",
    "\n",
    "        # fill the cost matrix\n",
    "        for t in range(num_truths):\n",
    "            localization_cost = np.linalg.norm(predictions[batch_idx][:][:, :4] - truths[batch_idx][t],\n",
    "                                               axis=1) * alpha1\n",
    "            confidence_cost = -1 * np.log(predictions[batch_idx][:][:, 4])\n",
    "            cost_matrix[:, t] = localization_cost + confidence_cost\n",
    "\n",
    "        # run the hungarian algorithm\n",
    "        row_ind, col_ind = linear_sum_assignment(cost_matrix)\n",
    "\n",
    "        # generate assignment lookup table\n",
    "        assignment = np.full(cost_matrix.shape, False, dtype=bool)\n",
    "        assignment[row_ind, col_ind] = True\n",
    "\n",
    "        # Calculate the loss\n",
    "        ######################################################\n",
    "\n",
    "        # which predictions map to a (any) ground truth?\n",
    "        prediction_mask = assignment.sum(axis=1, dtype=np.bool)\n",
    "\n",
    "        if the_loss is None:\n",
    "            the_loss = 0.0\n",
    "\n",
    "        # for all predictions which did not map to any truth, we want their confidence to be low\n",
    "        the_loss += -np.log(one_minus_confidence[~prediction_mask]).sum()\n",
    "\n",
    "        # now add cost of the matches\n",
    "        for t in range(num_truths):\n",
    "            localization_cost = np.linalg.norm(predictions[batch_idx][assignment[:, t]][:, :4] - truths[batch_idx][t],\n",
    "                                               axis=1) * alpha2\n",
    "            confidence_cost = -1 * np.log(predictions[batch_idx][assignment[:, t]][:, 4])\n",
    "            the_loss += np.squeeze(localization_cost + confidence_cost)\n",
    "\n",
    "    return the_loss if the_loss is not None else float('inf')\n"
   ]
  },
  {
   "cell_type": "code",
   "execution_count": 4,
   "metadata": {},
   "outputs": [
    {
     "ename": "AssertionError",
     "evalue": "Batch size of predictions and ground truths do not match",
     "output_type": "error",
     "traceback": [
      "\u001b[0;31m---------------------------------------------------------------------------\u001b[0m",
      "\u001b[0;31mAssertionError\u001b[0m                            Traceback (most recent call last)",
      "\u001b[0;32m<ipython-input-4-96cd2491d440>\u001b[0m in \u001b[0;36m<module>\u001b[0;34m\u001b[0m\n\u001b[1;32m      1\u001b[0m \u001b[0mp\u001b[0m \u001b[0;34m=\u001b[0m \u001b[0mnp\u001b[0m\u001b[0;34m.\u001b[0m\u001b[0marray\u001b[0m\u001b[0;34m(\u001b[0m\u001b[0;34m[\u001b[0m\u001b[0;34m[\u001b[0m\u001b[0;34m[\u001b[0m\u001b[0;36m10\u001b[0m\u001b[0;34m,\u001b[0m \u001b[0;36m20\u001b[0m\u001b[0;34m,\u001b[0m \u001b[0;36m30\u001b[0m\u001b[0;34m,\u001b[0m \u001b[0;36m40\u001b[0m\u001b[0;34m,\u001b[0m \u001b[0;36m0.001\u001b[0m\u001b[0;34m]\u001b[0m\u001b[0;34m,\u001b[0m \u001b[0;34m[\u001b[0m\u001b[0;36m1\u001b[0m\u001b[0;34m,\u001b[0m \u001b[0;36m2\u001b[0m\u001b[0;34m,\u001b[0m \u001b[0;36m3\u001b[0m\u001b[0;34m,\u001b[0m \u001b[0;36m4\u001b[0m\u001b[0;34m,\u001b[0m \u001b[0;36m.001\u001b[0m\u001b[0;34m]\u001b[0m\u001b[0;34m]\u001b[0m\u001b[0;34m]\u001b[0m\u001b[0;34m)\u001b[0m\u001b[0;34m\u001b[0m\u001b[0m\n\u001b[1;32m      2\u001b[0m \u001b[0mg\u001b[0m \u001b[0;34m=\u001b[0m \u001b[0mnp\u001b[0m\u001b[0;34m.\u001b[0m\u001b[0marray\u001b[0m\u001b[0;34m(\u001b[0m\u001b[0;34m[\u001b[0m\u001b[0;34m]\u001b[0m\u001b[0;34m)\u001b[0m\u001b[0;34m\u001b[0m\u001b[0m\n\u001b[0;32m----> 3\u001b[0;31m \u001b[0mdetection_loss\u001b[0m\u001b[0;34m(\u001b[0m\u001b[0mp\u001b[0m\u001b[0;34m,\u001b[0m \u001b[0mg\u001b[0m\u001b[0;34m)\u001b[0m\u001b[0;34m\u001b[0m\u001b[0m\n\u001b[0m",
      "\u001b[0;32m<ipython-input-3-b788884ba9db>\u001b[0m in \u001b[0;36mdetection_loss\u001b[0;34m(predictions, truths, alpha1, alpha2)\u001b[0m\n\u001b[1;32m     12\u001b[0m     \"\"\"\n\u001b[1;32m     13\u001b[0m \u001b[0;34m\u001b[0m\u001b[0m\n\u001b[0;32m---> 14\u001b[0;31m     \u001b[0;32massert\u001b[0m \u001b[0mlen\u001b[0m\u001b[0;34m(\u001b[0m\u001b[0mpredictions\u001b[0m\u001b[0;34m)\u001b[0m \u001b[0;34m==\u001b[0m \u001b[0mlen\u001b[0m\u001b[0;34m(\u001b[0m\u001b[0mtruths\u001b[0m\u001b[0;34m)\u001b[0m\u001b[0;34m,\u001b[0m \u001b[0;34m'Batch size of predictions and ground truths do not match'\u001b[0m\u001b[0;34m\u001b[0m\u001b[0m\n\u001b[0m\u001b[1;32m     15\u001b[0m \u001b[0;34m\u001b[0m\u001b[0m\n\u001b[1;32m     16\u001b[0m     \u001b[0mpredictions\u001b[0m \u001b[0;34m=\u001b[0m \u001b[0mnp\u001b[0m\u001b[0;34m.\u001b[0m\u001b[0marray\u001b[0m\u001b[0;34m(\u001b[0m\u001b[0mpredictions\u001b[0m\u001b[0;34m)\u001b[0m\u001b[0;34m\u001b[0m\u001b[0m\n",
      "\u001b[0;31mAssertionError\u001b[0m: Batch size of predictions and ground truths do not match"
     ]
    }
   ],
   "source": [
    "p = np.array([[[10, 20, 30, 40, 0.001], [1, 2, 3, 4, .001]]])\n",
    "g = np.array([])\n",
    "detection_loss(p, g)"
   ]
  },
  {
   "cell_type": "code",
   "execution_count": 5,
   "metadata": {},
   "outputs": [
    {
     "name": "stdout",
     "output_type": "stream",
     "text": [
      "0.0020009749568998814\n",
      "0.0020010006671670687\n"
     ]
    }
   ],
   "source": [
    "p = np.array([[[10, 20, 30, 40, 0.001], [1, 2, 3, 4, .001]]])\n",
    "g = np.array([[]])\n",
    "\n",
    "l = detection_loss(p, g)\n",
    "print(l)\n",
    "print(-np.log(1- np.squeeze(p)[:, 4]).sum())"
   ]
  },
  {
   "cell_type": "code",
   "execution_count": 6,
   "metadata": {},
   "outputs": [
    {
     "name": "stdout",
     "output_type": "stream",
     "text": [
      "inf\n"
     ]
    }
   ],
   "source": [
    "g = np.array([[[10, 20, 30, 40], [1, 2, 3, 4]]])\n",
    "p = np.array([[]])\n",
    "\n",
    "l = detection_loss(p, g)\n",
    "print(l)\n"
   ]
  },
  {
   "cell_type": "code",
   "execution_count": 22,
   "metadata": {},
   "outputs": [
    {
     "name": "stdout",
     "output_type": "stream",
     "text": [
      "0.0 0.0\n"
     ]
    }
   ],
   "source": [
    "p = np.array([[[10, 20, 30, 40, 0.0], [1, 2, 3, 4, 1]]])\n",
    "g = np.array([[[1., 2, 3, 4.]]])\n",
    "\n",
    "calculated = np.round(detection_loss(p, g), 4)\n",
    "expected = 0.0\n",
    "\n",
    "assert calculated == expected\n",
    "\n"
   ]
  },
  {
   "cell_type": "code",
   "execution_count": 26,
   "metadata": {},
   "outputs": [
    {
     "name": "stdout",
     "output_type": "stream",
     "text": [
      "38.40794560865187 38.40794542869968\n"
     ]
    }
   ],
   "source": [
    "prediction = np.array([[[10, 20, 30, 40, .9], [1, 2, 3, 40, .9]]])\n",
    "truth = np.array([[[1., 2, 3, 4.]]])\n",
    "\n",
    "calculated = detection_loss(prediction, truth)\n",
    "expected = np.linalg.norm(truth[0][0] - prediction[0][1][:4]) + -np.log(prediction[0][1][4]) + -np.log(1 - prediction[0][0][4])\n",
    "print(expected, calculated)"
   ]
  },
  {
   "cell_type": "code",
   "execution_count": null,
   "metadata": {},
   "outputs": [],
   "source": []
  },
  {
   "cell_type": "code",
   "execution_count": null,
   "metadata": {},
   "outputs": [],
   "source": []
  },
  {
   "cell_type": "code",
   "execution_count": null,
   "metadata": {},
   "outputs": [],
   "source": []
  },
  {
   "cell_type": "code",
   "execution_count": null,
   "metadata": {},
   "outputs": [],
   "source": []
  },
  {
   "cell_type": "code",
   "execution_count": null,
   "metadata": {},
   "outputs": [],
   "source": []
  },
  {
   "cell_type": "code",
   "execution_count": null,
   "metadata": {},
   "outputs": [],
   "source": []
  },
  {
   "cell_type": "code",
   "execution_count": null,
   "metadata": {},
   "outputs": [],
   "source": []
  },
  {
   "cell_type": "code",
   "execution_count": 30,
   "metadata": {},
   "outputs": [
    {
     "name": "stdout",
     "output_type": "stream",
     "text": [
      "0.1491365738218763 0.14913658416132122\n"
     ]
    }
   ],
   "source": [
    "prediction = np.array([[[10, 20, 30, 40, 0.0001], [1, 2, 3, 4, .999]], \n",
    "              [[1, 1, 1, 2, .98], [3, 4, 5, 6, .88]]])\n",
    "\n",
    "truth = np.array([[[1., 2, 3, 4.]], \n",
    "              [[1, 1, 1, 2], [3, 4, 5, 6]]])\n",
    "\n",
    "calculated = detection_loss(p, g)\n",
    "expected = np.linalg.norm(truth[0][0] - prediction[0][1][:4]) + -np.log(prediction[0][1][4]) + -np.log(1 - prediction[0][0][4])\n",
    "expected += np.linalg.norm(truth[1][0] - prediction[1][0][:4]) + -np.log(prediction[1][0][4])\n",
    "expected += np.linalg.norm(truth[1][1] - prediction[1][1][:4]) + -np.log(prediction[1][1][4])\n",
    "\n",
    "print(calculated, expected)\n"
   ]
  },
  {
   "cell_type": "code",
   "execution_count": null,
   "metadata": {},
   "outputs": [],
   "source": [
    "p = np.array([[[1, 1, 1, 2, 0.9], [3, 4, 5, 6, .9], [33, 44, 55, 66, .01]]])\n",
    "g = np.array([[[1, 1, 1, 2], [3, 4, 5, 6]]])\n",
    "\n",
    "l = loss(p, g, alpha1=1)\n",
    "print(l)"
   ]
  }
 ],
 "metadata": {
  "kernelspec": {
   "display_name": "Python 3",
   "language": "python",
   "name": "python3"
  },
  "language_info": {
   "codemirror_mode": {
    "name": "ipython",
    "version": 3
   },
   "file_extension": ".py",
   "mimetype": "text/x-python",
   "name": "python",
   "nbconvert_exporter": "python",
   "pygments_lexer": "ipython3",
   "version": "3.6.5"
  }
 },
 "nbformat": 4,
 "nbformat_minor": 2
}
