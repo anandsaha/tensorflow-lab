{
 "cells": [
  {
   "cell_type": "code",
   "execution_count": null,
   "metadata": {},
   "outputs": [],
   "source": [
    "import numpy as np\n",
    "from scipy.optimize import linear_sum_assignment"
   ]
  },
  {
   "cell_type": "code",
   "execution_count": null,
   "metadata": {},
   "outputs": [],
   "source": [
    "def stabilize(confidence, very_small_value=1e-8, dtype=np.float32):\n",
    "    confidence[confidence > 1.0]  = 1.0\n",
    "    confidence[confidence <= 0.0]  = very_small_value\n",
    "    return confidence.astype(dtype)"
   ]
  },
  {
   "cell_type": "code",
   "execution_count": null,
   "metadata": {},
   "outputs": [],
   "source": [
    "\n",
    "def loss(predictions, truths, alpha=1.0):\n",
    "    \"\"\"\n",
    "    predictions is a float matrix with the dimensions [batch_size, num_predictions, 5]\n",
    "        - the '5' represents x, y, height, width & confidence of each prediction of each batch item\n",
    "        \n",
    "    truths is a float matrix with the dimensions [batch_size, num_ground_truths, 4]\n",
    "        - the '4' represents x, y, height & width of each ground truth of each batch item\n",
    "    \n",
    "    for all items in the batch, num_predictions will be the same \n",
    "        (as determined by the image sizes in the batch and the number of bounding \n",
    "        boxes we want to predict per location)\n",
    "        \n",
    "    for all items in the batch, num_ground_truths will be different for different images\n",
    "    \n",
    "    \"\"\"\n",
    "    \n",
    "    assert len(predictions) == len(truths), 'Batch size of predictions and ground truths do not match'\n",
    "        \n",
    "    predictions = np.array(predictions)\n",
    "    truths      = np.array(truths)\n",
    "    batch_size  = len(predictions)\n",
    "    the_loss    = None\n",
    "    \n",
    "    for batch_idx in range(batch_size):\n",
    "        \n",
    "        # Create the cost matrix: predictions vs ground truths\n",
    "        ######################################################\n",
    "        \n",
    "        num_preds = len(predictions[batch_idx])\n",
    "        num_truths = len(truths[batch_idx])\n",
    "        \n",
    "        if num_preds == 0 or num_truths == 0:\n",
    "            continue # no way to calculate loss for this batch item\n",
    "        \n",
    "        # For numerical stability\n",
    "        predictions[batch_idx][:, 4] = stabilize(predictions[batch_idx][:, 4])\n",
    "        \n",
    "        # extract (1-confidence) values\n",
    "        one_minus_confidence = np.expand_dims(1.0 - predictions[batch_idx][:, 4], axis=1)\n",
    "        \n",
    "        # For numerical stability\n",
    "        one_minus_confidence = stabilize(one_minus_confidence)\n",
    "        \n",
    "        # the cost matrix, initialized to 0\n",
    "        cost_matrix = np.zeros((num_preds, num_truths))\n",
    "        \n",
    "        # fill the cost matrix\n",
    "        # !! TODO - Vectorize this loop !!\n",
    "        for t in range(num_truths):\n",
    "            for p in range(num_preds):\n",
    "                localization_cost = alpha * np.linalg.norm(predictions[batch_idx][p][:4] - truths[batch_idx][t])**2\n",
    "                confidence_cost = -1 * np.log(predictions[batch_idx][p][4])\n",
    "                cost_matrix[p, t] = localization_cost + confidence_cost\n",
    "        \n",
    "        # run the hungarian algorithm\n",
    "        row_ind, col_ind = linear_sum_assignment(cost_matrix) \n",
    "\n",
    "        # Calculate the loss\n",
    "        ######################################################\n",
    "        # !! TODO - Vectorize this loop !!\n",
    "        for t in range(num_truths):\n",
    "            loop_loss = 0.0\n",
    "            for p in range(num_preds):\n",
    "                if t in col_ind and p in row_ind:\n",
    "                    print(cost_matrix[p][t])\n",
    "                    loop_loss += cost_matrix[p][t] # the paper uses a different alpha value for this step\n",
    "                elif p not in row_ind: # !!\n",
    "                    loop_loss -= np.log(one_minus_confidence[p])\n",
    "            \n",
    "            if the_loss is None:\n",
    "                the_loss = 0.0\n",
    "\n",
    "            the_loss += loop_loss\n",
    "        \n",
    "    return the_loss"
   ]
  },
  {
   "cell_type": "code",
   "execution_count": null,
   "metadata": {},
   "outputs": [],
   "source": [
    "p = np.array([[[10, 20, 30, 40, 0.001], [1, 2, 3, 4, .98]]])\n",
    "\n",
    "g = np.array([[[1., 2, 3, 4.]]])\n",
    "\n",
    "l = loss(p, g)\n",
    "print(l)"
   ]
  },
  {
   "cell_type": "code",
   "execution_count": null,
   "metadata": {},
   "outputs": [],
   "source": [
    "p = np.array([[[10, 20, 30, 40, 0.001], [1, 2, 3, 4, .98]], \n",
    "              [[1, 1, 1, 2, 0.9], [3, 4, 5, 6, .98]]])\n",
    "\n",
    "g = np.array([[[1., 2, 3, 4.]], \n",
    "              [[1, 1, 1, 2], [3, 4, 5, 6]]])\n",
    "\n",
    "l = loss(p, g)\n",
    "print(l)"
   ]
  },
  {
   "cell_type": "code",
   "execution_count": null,
   "metadata": {},
   "outputs": [],
   "source": [
    "p = np.array([[[1, 1, 1, 2, 0.9], [3, 4, 5, 6, .9]]])\n",
    "\n",
    "g = np.array([[[1, 1, 1, 2], [3, 4, 5, 6]]])\n",
    "\n",
    "l = loss(p, g, alpha=1)\n",
    "print(l)"
   ]
  }
 ],
 "metadata": {
  "kernelspec": {
   "display_name": "Python 3",
   "language": "python",
   "name": "python3"
  },
  "language_info": {
   "codemirror_mode": {
    "name": "ipython",
    "version": 3
   },
   "file_extension": ".py",
   "mimetype": "text/x-python",
   "name": "python",
   "nbconvert_exporter": "python",
   "pygments_lexer": "ipython3",
   "version": "3.6.5"
  }
 },
 "nbformat": 4,
 "nbformat_minor": 2
}
