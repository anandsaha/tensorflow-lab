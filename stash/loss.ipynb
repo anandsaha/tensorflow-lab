{
 "cells": [
  {
   "cell_type": "code",
   "execution_count": 1,
   "metadata": {},
   "outputs": [],
   "source": [
    "import numpy as np\n",
    "from scipy.optimize import linear_sum_assignment"
   ]
  },
  {
   "cell_type": "code",
   "execution_count": 40,
   "metadata": {},
   "outputs": [
    {
     "data": {
      "text/plain": [
       "0.0"
      ]
     },
     "execution_count": 40,
     "metadata": {},
     "output_type": "execute_result"
    }
   ],
   "source": [
    "np.log(1)"
   ]
  },
  {
   "cell_type": "code",
   "execution_count": 51,
   "metadata": {},
   "outputs": [],
   "source": [
    "def stability(confidence):\n",
    "    if confidence > 1.0:\n",
    "        confidence = 1.0\n",
    "    if confidence <= 0.:\n",
    "        confidence = 1e-10\n",
    "    return confidence"
   ]
  },
  {
   "cell_type": "code",
   "execution_count": 67,
   "metadata": {},
   "outputs": [],
   "source": [
    "def cost_calc(pred, pred_confidence, gt, alpha):\n",
    "    \"\"\"\n",
    "    pred = [x, y, h, w]\n",
    "    pred_confidence = float\n",
    "    \n",
    "    gt   = [x, y, h, w]\n",
    "    alpha = float\n",
    "    \"\"\"\n",
    "    if False:\n",
    "        print('Pred', pred)\n",
    "        print('Pred conf', pred_confidence)\n",
    "        print('Ground', gt)\n",
    "    \n",
    "    one_minus_pred_confidence = 1 - pred_confidence\n",
    "    \n",
    "    pred_confidence = stability(pred_confidence)\n",
    "    one_minus_pred_confidence = stability(one_minus_pred_confidence)\n",
    "    \n",
    "    localization_cost = alpha * np.linalg.norm(pred - gt)**2\n",
    "    confidence_cost = -1 * np.log(pred_confidence) # + np.log((one_minus_pred_confidence))\n",
    "    \n",
    "    return localization_cost + confidence_cost\n",
    "        "
   ]
  },
  {
   "cell_type": "code",
   "execution_count": 68,
   "metadata": {},
   "outputs": [],
   "source": [
    "# TODO - Vectorize this function. It has been left procedural for understanding purpose.\n",
    "\n",
    "def loss(preds, truths):\n",
    "    \"\"\"\n",
    "    preds is a float matrix with the dimensions [batch_size, num_predictions, 5]\n",
    "        - the 5 represents x, y, height, width, confidence\n",
    "        \n",
    "    truths is a float matrix with the dimensions [batch_size, num_ground_truths, 4]\n",
    "        - the 4 represents x, y, height, width\n",
    "    \n",
    "    for all items in the batch, num_predictions will be the same \n",
    "        (as determined by the image sizes in the batch and the number of bounding \n",
    "        boxes we want to predict per location)\n",
    "        \n",
    "    for all items in the batch, num_ground_truths will be different for different images\n",
    "    \"\"\"\n",
    "    \n",
    "    assert len(preds) == len(truths), 'Batch size of predictions and ground truths do not match'\n",
    "    batch_size = len(preds)\n",
    "\n",
    "    cost = 0.0\n",
    "    alpha = 1.0\n",
    "    \n",
    "    for b in range(batch_size):\n",
    "        num_preds = len(preds[b])\n",
    "        num_truths = len(truths[b])\n",
    "        \n",
    "        cost_grid = np.zeros((num_preds, num_truths))\n",
    "\n",
    "        for p in range(num_preds):\n",
    "            for t in range(num_truths):\n",
    "                cost_grid[p, t] = cost_calc(preds[b][p][:4], preds[b][p][4], truths[b][t], alpha)\n",
    "        print(cost_grid)\n",
    "        row_ind, col_ind = linear_sum_assignment(cost_grid)\n",
    "        \n",
    "        cost += cost_grid[row_ind, col_ind].sum()\n",
    "            \n",
    "    return cost"
   ]
  },
  {
   "cell_type": "code",
   "execution_count": 73,
   "metadata": {},
   "outputs": [
    {
     "name": "stdout",
     "output_type": "stream",
     "text": [
      "[[0.01005034]\n",
      " [1.69314718]]\n"
     ]
    },
    {
     "data": {
      "text/plain": [
       "0.01005033585350145"
      ]
     },
     "execution_count": 73,
     "metadata": {},
     "output_type": "execute_result"
    }
   ],
   "source": [
    "ground_truth = np.array([[[1., 2, 3, 4]]])\n",
    "predictions = np.array([[[1, 2, 3, 4, .99], [1, 2, 3, 5, .5]]])\n",
    "\n",
    "loss(predictions, ground_truth)"
   ]
  },
  {
   "cell_type": "code",
   "execution_count": null,
   "metadata": {},
   "outputs": [],
   "source": []
  },
  {
   "cell_type": "code",
   "execution_count": null,
   "metadata": {},
   "outputs": [],
   "source": [
    "stop"
   ]
  },
  {
   "cell_type": "code",
   "execution_count": null,
   "metadata": {},
   "outputs": [],
   "source": [
    "batch_size = 1\n",
    "num_preds = 4\n",
    "max_truth_preds = 3\n",
    "\n",
    "preds = []\n",
    "truth = []\n",
    "\n",
    "for img in range(batch_size):\n",
    "    num_truth = np.random.randint(low=1, high=max_truth_preds)\n",
    "    print(num_truth)\n",
    "\n",
    "    p = np.random.random((num_preds, 5))\n",
    "    t = np.random.random((num_truth, 4))\n",
    "\n",
    "    preds.append(p)\n",
    "    truth.append(t)"
   ]
  },
  {
   "cell_type": "code",
   "execution_count": null,
   "metadata": {},
   "outputs": [],
   "source": [
    "truth"
   ]
  },
  {
   "cell_type": "code",
   "execution_count": null,
   "metadata": {},
   "outputs": [],
   "source": [
    "loss(preds, truth)"
   ]
  },
  {
   "cell_type": "code",
   "execution_count": null,
   "metadata": {},
   "outputs": [],
   "source": [
    "stop"
   ]
  },
  {
   "cell_type": "code",
   "execution_count": null,
   "metadata": {},
   "outputs": [],
   "source": [
    "pred_confidence = 0.000001\n",
    "log1 = np.log(pred_confidence)\n",
    "log2 = np.log(1-pred_confidence)\n",
    "print(-log1)"
   ]
  },
  {
   "cell_type": "code",
   "execution_count": null,
   "metadata": {},
   "outputs": [],
   "source": [
    "np.linalg.norm(np.array([1, 2, 3, 4]) - np.array([1, 2, 3, 4]))**2"
   ]
  },
  {
   "cell_type": "code",
   "execution_count": null,
   "metadata": {},
   "outputs": [],
   "source": []
  },
  {
   "cell_type": "code",
   "execution_count": null,
   "metadata": {},
   "outputs": [],
   "source": []
  },
  {
   "cell_type": "code",
   "execution_count": null,
   "metadata": {},
   "outputs": [],
   "source": []
  },
  {
   "cell_type": "code",
   "execution_count": null,
   "metadata": {},
   "outputs": [],
   "source": [
    "import sci"
   ]
  },
  {
   "cell_type": "code",
   "execution_count": null,
   "metadata": {},
   "outputs": [],
   "source": [
    "from scipy.optimize import linear_sum_assignment\n",
    "\n",
    "cost = np.array([[4, 1, 3], [2, 0, 5], [3, 2, 2]])\n",
    "cost = np.array([[4, 1], [2, 0], [3, 2]])\n",
    "row_ind, col_ind = linear_sum_assignment(cost)\n",
    "\n",
    "print(row_ind, col_ind)\n",
    "print(cost[row_ind, col_ind].sum())"
   ]
  },
  {
   "cell_type": "code",
   "execution_count": null,
   "metadata": {},
   "outputs": [],
   "source": [
    "z = np.array([10, 9, 8]) - np.array([2, 3, 4])"
   ]
  },
  {
   "cell_type": "code",
   "execution_count": null,
   "metadata": {},
   "outputs": [],
   "source": [
    "z"
   ]
  },
  {
   "cell_type": "code",
   "execution_count": null,
   "metadata": {},
   "outputs": [],
   "source": [
    "np.linalg.norm(z)** 2"
   ]
  },
  {
   "cell_type": "code",
   "execution_count": null,
   "metadata": {},
   "outputs": [],
   "source": [
    "\n",
    "coord = 0.0001\n",
    "pred_confidence = 0.00001\n",
    "\n",
    "log1 = np.log(pred_confidence)\n",
    "log2 = np.log(1-pred_confidence)\n",
    "\n",
    "coord - log1 + log2\n"
   ]
  },
  {
   "cell_type": "code",
   "execution_count": null,
   "metadata": {},
   "outputs": [],
   "source": [
    "np.log(0.00001)"
   ]
  },
  {
   "cell_type": "code",
   "execution_count": 76,
   "metadata": {},
   "outputs": [
    {
     "data": {
      "text/plain": [
       "4.595119850134589"
      ]
     },
     "execution_count": 76,
     "metadata": {},
     "output_type": "execute_result"
    }
   ],
   "source": [
    "c = 0.99\n",
    "np.log(c/(1-c))"
   ]
  },
  {
   "cell_type": "code",
   "execution_count": null,
   "metadata": {},
   "outputs": [],
   "source": []
  }
 ],
 "metadata": {
  "kernelspec": {
   "display_name": "Python 3",
   "language": "python",
   "name": "python3"
  },
  "language_info": {
   "codemirror_mode": {
    "name": "ipython",
    "version": 3
   },
   "file_extension": ".py",
   "mimetype": "text/x-python",
   "name": "python",
   "nbconvert_exporter": "python",
   "pygments_lexer": "ipython3",
   "version": "3.6.5"
  }
 },
 "nbformat": 4,
 "nbformat_minor": 2
}
