{
 "cells": [
  {
   "cell_type": "code",
   "execution_count": 8,
   "metadata": {},
   "outputs": [
    {
     "name": "stdout",
     "output_type": "stream",
     "text": [
      "['tesseract', '/var/folders/87/08hx9f1d0s15_7xmwm94yh2mtw019j/T/tess_b0l0f4sj.JPEG', '/var/folders/87/08hx9f1d0s15_7xmwm94yh2mtw019j/T/tess_b0l0f4sj_out', 'batch.nochop', 'makebox']\n"
     ]
    }
   ],
   "source": [
    "try:\n",
    "    from PIL import Image\n",
    "except ImportError:\n",
    "    import Image\n",
    "import pytesseract\n",
    "import cv2\n",
    "img_file = '/Users/asaha/Downloads/receipt_medium.png'\n",
    "img_file = '/Users/asaha/Downloads/receipt_large.jpg'\n",
    "\n",
    "boxes = pytesseract.image_to_boxes(Image.open(img_file)).split('\\n')"
   ]
  },
  {
   "cell_type": "code",
   "execution_count": 9,
   "metadata": {},
   "outputs": [
    {
     "data": {
      "text/plain": [
       "True"
      ]
     },
     "execution_count": 9,
     "metadata": {},
     "output_type": "execute_result"
    }
   ],
   "source": [
    "\n",
    "# Draw the bounding box\n",
    "img = cv2.imread(img_file)\n",
    "h, w, _ = img.shape\n",
    "for b in boxes:\n",
    "    b = b.split(' ')\n",
    "    img = cv2.rectangle(img,(int(b[1]),h-int(b[2])),(int(b[3]),h-int(b[4])),(255,0,0),2)\n",
    "\n",
    "cv2.imwrite('output.jpg', img)"
   ]
  }
 ],
 "metadata": {
  "kernelspec": {
   "display_name": "Python 3",
   "language": "python",
   "name": "python3"
  },
  "language_info": {
   "codemirror_mode": {
    "name": "ipython",
    "version": 3
   },
   "file_extension": ".py",
   "mimetype": "text/x-python",
   "name": "python",
   "nbconvert_exporter": "python",
   "pygments_lexer": "ipython3",
   "version": "3.6.5"
  }
 },
 "nbformat": 4,
 "nbformat_minor": 2
}
